{
 "cells": [
  {
   "cell_type": "code",
   "execution_count": 1,
   "id": "3e20e6ab-a1ca-45b9-8fa4-ed6bbeac25d9",
   "metadata": {},
   "outputs": [],
   "source": [
    "import pandas as pd\n",
    "import numpy as np\n",
    "from sklearn.model_selection import train_test_split\n",
    "from sklearn.preprocessing import MinMaxScaler\n",
    "from tensorflow.keras.models import Sequential\n",
    "from tensorflow.keras.layers import Dense, Conv1D, Flatten, Dropout, Input\n",
    "from tensorflow.keras.optimizers import Adam\n",
    "from tensorflow.keras.callbacks import EarlyStopping"
   ]
  },
  {
   "cell_type": "code",
   "execution_count": 2,
   "id": "75120989-a411-4a1e-b727-c269f34d10f4",
   "metadata": {},
   "outputs": [],
   "source": [
    "data = {\n",
    "    'AQI': np.random.randint(50, 300, 1000),\n",
    "    'PM10': np.random.uniform(10, 100, 1000),\n",
    "    'PM2_5': np.random.uniform(5, 80, 1000),\n",
    "    'NO2': np.random.uniform(5, 60, 1000),\n",
    "    'SO2': np.random.uniform(2, 40, 1000),\n",
    "    'O3': np.random.uniform(20, 120, 1000),\n",
    "    'Temperature': np.random.uniform(15, 35, 1000),\n",
    "    'Humidity': np.random.uniform(30, 90, 1000),\n",
    "    'WindSpeed': np.random.uniform(0.5, 10, 1000),\n",
    "    'HealthImpactScore': np.random.uniform(0, 100, 1000),\n",
    "}"
   ]
  },
  {
   "cell_type": "code",
   "execution_count": 3,
   "id": "b969282b-a54a-429e-a142-0340cce4dcab",
   "metadata": {},
   "outputs": [],
   "source": [
    "# Membuat DataFrame\n",
    "df = pd.DataFrame(data)"
   ]
  },
  {
   "cell_type": "code",
   "execution_count": 4,
   "id": "4dc4e577-7f47-42fa-8962-edf98f08da5a",
   "metadata": {},
   "outputs": [],
   "source": [
    "# Memisahkan fitur (X) dan target (y)\n",
    "X = df[['AQI', 'PM10', 'PM2_5', 'NO2', 'SO2', 'O3', 'Temperature', 'Humidity', 'WindSpeed']].values\n",
    "y = df['HealthImpactScore'].values"
   ]
  },
  {
   "cell_type": "code",
   "execution_count": 5,
   "id": "955ffcb3-757c-40f2-a6a6-7da009c82c54",
   "metadata": {},
   "outputs": [],
   "source": [
    "# Normalisasi data menggunakan MinMaxScaler\n",
    "scaler = MinMaxScaler()\n",
    "X_scaled = scaler.fit_transform(X)"
   ]
  },
  {
   "cell_type": "code",
   "execution_count": 6,
   "id": "f3aaaea2-ca8a-4968-9843-6ab003062ccd",
   "metadata": {},
   "outputs": [],
   "source": [
    "# Reshape data untuk CNN (menambahkan dimensi channel)\n",
    "X_scaled = X_scaled.reshape(X_scaled.shape[0], X_scaled.shape[1], 1)"
   ]
  },
  {
   "cell_type": "code",
   "execution_count": 7,
   "id": "5130e12d-e7b6-4d5c-9cde-b665d4364514",
   "metadata": {},
   "outputs": [],
   "source": [
    "# Membagi dataset menjadi train dan test set\n",
    "X_train, X_test, y_train, y_test = train_test_split(X_scaled, y, test_size=0.2, random_state=42)"
   ]
  },
  {
   "cell_type": "code",
   "execution_count": 8,
   "id": "9b70d97e-1a04-4179-a89b-b068ff6ae9ac",
   "metadata": {},
   "outputs": [],
   "source": [
    "# Membuat model CNN\n",
    "model = Sequential([\n",
    "    Input(shape=(X_train.shape[1], 1)),  # Input layer\n",
    "    Conv1D(filters=32, kernel_size=3, activation='relu'),\n",
    "    Conv1D(filters=64, kernel_size=3, activation='relu'),\n",
    "    Flatten(),\n",
    "    Dense(128, activation='relu'),\n",
    "    Dropout(0.2),\n",
    "    Dense(64, activation='relu'),\n",
    "    Dense(1, activation='linear')  # Output layer\n",
    "])"
   ]
  },
  {
   "cell_type": "code",
   "execution_count": 9,
   "id": "fa773b18-1632-4f58-9f99-152b65d5d616",
   "metadata": {},
   "outputs": [],
   "source": [
    "# Kompilasi model\n",
    "model.compile(optimizer=Adam(learning_rate=0.001), loss='mse', metrics=['mae'])"
   ]
  },
  {
   "cell_type": "code",
   "execution_count": 10,
   "id": "50b09b3f-21bc-4781-a7e1-711200325db6",
   "metadata": {},
   "outputs": [],
   "source": [
    "# Menambahkan Early Stopping untuk mencegah overfitting\n",
    "early_stopping = EarlyStopping(monitor='val_loss', patience=10, restore_best_weights=True)"
   ]
  },
  {
   "cell_type": "code",
   "execution_count": 30,
   "id": "0c0cbb78-4316-49ba-bbca-deb878ae78f6",
   "metadata": {},
   "outputs": [
    {
     "name": "stdout",
     "output_type": "stream",
     "text": [
      "Epoch 1/100\n",
      "\u001b[1m20/20\u001b[0m \u001b[32m━━━━━━━━━━━━━━━━━━━━\u001b[0m\u001b[37m\u001b[0m \u001b[1m0s\u001b[0m 4ms/step - loss: 827.5847 - mae: 24.8561 - val_loss: 894.2547 - val_mae: 25.8734\n",
      "Epoch 2/100\n",
      "\u001b[1m20/20\u001b[0m \u001b[32m━━━━━━━━━━━━━━━━━━━━\u001b[0m\u001b[37m\u001b[0m \u001b[1m0s\u001b[0m 3ms/step - loss: 861.7982 - mae: 25.1913 - val_loss: 893.6512 - val_mae: 25.8683\n",
      "Epoch 3/100\n",
      "\u001b[1m20/20\u001b[0m \u001b[32m━━━━━━━━━━━━━━━━━━━━\u001b[0m\u001b[37m\u001b[0m \u001b[1m0s\u001b[0m 3ms/step - loss: 858.1600 - mae: 25.2039 - val_loss: 895.0501 - val_mae: 25.8963\n",
      "Epoch 4/100\n",
      "\u001b[1m20/20\u001b[0m \u001b[32m━━━━━━━━━━━━━━━━━━━━\u001b[0m\u001b[37m\u001b[0m \u001b[1m0s\u001b[0m 3ms/step - loss: 826.2268 - mae: 24.9056 - val_loss: 896.0702 - val_mae: 25.9027\n",
      "Epoch 5/100\n",
      "\u001b[1m20/20\u001b[0m \u001b[32m━━━━━━━━━━━━━━━━━━━━\u001b[0m\u001b[37m\u001b[0m \u001b[1m0s\u001b[0m 3ms/step - loss: 837.5899 - mae: 25.1255 - val_loss: 908.6727 - val_mae: 26.0897\n",
      "Epoch 6/100\n",
      "\u001b[1m20/20\u001b[0m \u001b[32m━━━━━━━━━━━━━━━━━━━━\u001b[0m\u001b[37m\u001b[0m \u001b[1m0s\u001b[0m 3ms/step - loss: 814.8969 - mae: 24.4528 - val_loss: 903.7983 - val_mae: 25.9990\n",
      "Epoch 7/100\n",
      "\u001b[1m20/20\u001b[0m \u001b[32m━━━━━━━━━━━━━━━━━━━━\u001b[0m\u001b[37m\u001b[0m \u001b[1m0s\u001b[0m 3ms/step - loss: 849.6158 - mae: 25.0916 - val_loss: 916.1584 - val_mae: 26.1143\n",
      "Epoch 8/100\n",
      "\u001b[1m20/20\u001b[0m \u001b[32m━━━━━━━━━━━━━━━━━━━━\u001b[0m\u001b[37m\u001b[0m \u001b[1m0s\u001b[0m 3ms/step - loss: 824.7799 - mae: 24.8778 - val_loss: 913.6300 - val_mae: 26.1549\n",
      "Epoch 9/100\n",
      "\u001b[1m20/20\u001b[0m \u001b[32m━━━━━━━━━━━━━━━━━━━━\u001b[0m\u001b[37m\u001b[0m \u001b[1m0s\u001b[0m 3ms/step - loss: 845.4818 - mae: 25.0751 - val_loss: 902.2975 - val_mae: 26.0202\n",
      "Epoch 10/100\n",
      "\u001b[1m20/20\u001b[0m \u001b[32m━━━━━━━━━━━━━━━━━━━━\u001b[0m\u001b[37m\u001b[0m \u001b[1m0s\u001b[0m 3ms/step - loss: 884.6686 - mae: 25.9168 - val_loss: 903.2555 - val_mae: 26.0290\n"
     ]
    }
   ],
   "source": [
    "# Melatih model\n",
    "history = model.fit(\n",
    "    X_train, y_train,\n",
    "    validation_split=0.2,\n",
    "    epochs=100,\n",
    "    batch_size=32,\n",
    "    callbacks=[early_stopping],\n",
    "    verbose=1\n",
    ")"
   ]
  },
  {
   "cell_type": "code",
   "execution_count": 27,
   "id": "da967e1d-382a-4a43-afb9-2b866edf511e",
   "metadata": {},
   "outputs": [
    {
     "name": "stdout",
     "output_type": "stream",
     "text": [
      "Mean Absolute Error (MAE): 24.651756286621094\n"
     ]
    }
   ],
   "source": [
    "# Evaluasi model\n",
    "loss, mae = model.evaluate(X_test, y_test, verbose=0)\n",
    "print(\"Mean Absolute Error (MAE):\", mae)"
   ]
  },
  {
   "cell_type": "code",
   "execution_count": 13,
   "id": "5b4d61e0-0a5c-44cb-9c82-9d712192d0b6",
   "metadata": {},
   "outputs": [],
   "source": [
    "# Fungsi prediksi\n",
    "def predict_health_impact_cnn(aqi, pm10, pm2_5, no2, so2, o3, temperature, humidity, wind_speed):\n",
    "    \"\"\"\n",
    "    Fungsi untuk memprediksi HealthImpactScore menggunakan CNN.\n",
    "    \"\"\"\n",
    "    input_data = np.array([[aqi, pm10, pm2_5, no2, so2, o3, temperature, humidity, wind_speed]])\n",
    "    input_data_scaled = scaler.transform(input_data)  # Normalisasi data\n",
    "    input_data_scaled = input_data_scaled.reshape(input_data_scaled.shape[0], input_data_scaled.shape[1], 1)  # Reshape untuk CNN\n",
    "    return model.predict(input_data_scaled)[0][0]"
   ]
  },
  {
   "cell_type": "code",
   "execution_count": 14,
   "id": "578aca49-86fc-4c57-8ca7-5a6b155583bf",
   "metadata": {},
   "outputs": [
    {
     "name": "stdout",
     "output_type": "stream",
     "text": [
      "\u001b[1m1/1\u001b[0m \u001b[32m━━━━━━━━━━━━━━━━━━━━\u001b[0m\u001b[37m\u001b[0m \u001b[1m0s\u001b[0m 67ms/step\n",
      "Predicted HealthImpactScore: 78.542\n"
     ]
    }
   ],
   "source": [
    "# Contoh penggunaan fungsi\n",
    "predicted_score = predict_health_impact_cnn(187.2700594, 295.8530392, 13.03856044, 6.639263013, 66.16114965, 54.62427998, 5.150335038, 84.42434365, 6.137755447)\n",
    "print(\"Predicted HealthImpactScore:\", predicted_score)"
   ]
  },
  {
   "cell_type": "code",
   "execution_count": 15,
   "id": "9e927f9d-9d8a-4d48-8c53-54de42cf1396",
   "metadata": {},
   "outputs": [
    {
     "name": "stdout",
     "output_type": "stream",
     "text": [
      "\u001b[1m25/25\u001b[0m \u001b[32m━━━━━━━━━━━━━━━━━━━━\u001b[0m\u001b[37m\u001b[0m \u001b[1m0s\u001b[0m 1ms/step \n",
      "\u001b[1m7/7\u001b[0m \u001b[32m━━━━━━━━━━━━━━━━━━━━\u001b[0m\u001b[37m\u001b[0m \u001b[1m0s\u001b[0m 1ms/step \n"
     ]
    }
   ],
   "source": [
    "from sklearn.metrics import r2_score, mean_absolute_error\n",
    "\n",
    "# Prediksi pada data train\n",
    "y_train_pred = model.predict(X_train)\n",
    "y_test_pred = model.predict(X_test)\n"
   ]
  },
  {
   "cell_type": "code",
   "execution_count": 16,
   "id": "2e8ef24c-b6e0-47ce-b8f4-ff1ef2f76faf",
   "metadata": {},
   "outputs": [],
   "source": [
    "# Evaluasi pada train set\n",
    "r2_train = r2_score(y_train, y_train_pred)\n",
    "mae_train = mean_absolute_error(y_train, y_train_pred)"
   ]
  },
  {
   "cell_type": "code",
   "execution_count": 17,
   "id": "e6bd7d11-0f9d-408c-951d-e2f4d7461bdf",
   "metadata": {},
   "outputs": [],
   "source": [
    "# Evaluasi pada test set\n",
    "r2_test = r2_score(y_test, y_test_pred)\n",
    "mae_test = mean_absolute_error(y_test, y_test_pred)"
   ]
  },
  {
   "cell_type": "code",
   "execution_count": 18,
   "id": "40e16796-25e1-48cb-96f2-0adb222b10f9",
   "metadata": {},
   "outputs": [
    {
     "name": "stdout",
     "output_type": "stream",
     "text": [
      "=== Evaluasi Model ===\n",
      "Train Set R-squared: -0.0012\n",
      "Train Set MAE: 24.9717\n",
      "Test Set R-squared: -0.0002\n",
      "Test Set MAE: 25.0332\n"
     ]
    }
   ],
   "source": [
    "print(\"=== Evaluasi Model ===\")\n",
    "print(f\"Train Set R-squared: {r2_train:.4f}\")\n",
    "print(f\"Train Set MAE: {mae_train:.4f}\")\n",
    "print(f\"Test Set R-squared: {r2_test:.4f}\")\n",
    "print(f\"Test Set MAE: {mae_test:.4f}\")\n"
   ]
  },
  {
   "cell_type": "code",
   "execution_count": 19,
   "id": "bb0eca4a-e997-4e20-bd6c-cd84485604b6",
   "metadata": {},
   "outputs": [
    {
     "name": "stdout",
     "output_type": "stream",
     "text": [
      "\n",
      "=== Akurasi ===\n",
      "Model memiliki akurasi rendah pada test set (R² < 0.7).\n",
      "Performa model pada train dan test set konsisten, tidak ada indikasi overfitting.\n"
     ]
    }
   ],
   "source": [
    "print(\"\\n=== Akurasi ===\")\n",
    "if r2_test >= 0.9:\n",
    "    print(\"Model memiliki akurasi sangat tinggi pada test set (R² > 0.9).\")\n",
    "elif r2_test >= 0.8:\n",
    "    print(\"Model memiliki akurasi baik pada test set (R² antara 0.8 dan 0.9).\")\n",
    "elif r2_test >= 0.7:\n",
    "    print(\"Model memiliki akurasi sedang pada test set (R² antara 0.7 dan 0.8).\")\n",
    "else:\n",
    "    print(\"Model memiliki akurasi rendah pada test set (R² < 0.7).\")\n",
    "\n",
    "if abs(r2_train - r2_test) > 0.1:\n",
    "    print(\"Namun, terdapat perbedaan signifikan antara performa train dan test set, kemungkinan terjadi overfitting.\")\n",
    "else:\n",
    "    print(\"Performa model pada train dan test set konsisten, tidak ada indikasi overfitting.\")"
   ]
  },
  {
   "cell_type": "code",
   "execution_count": 20,
   "id": "e6b16ab2-fd28-4085-8e02-6367c0a1b5ac",
   "metadata": {},
   "outputs": [],
   "source": [
    "def classify_health_impact(score):\n",
    "    \"\"\"\n",
    "    Mengklasifikasikan HealthImpactScore ke dalam kategori.\n",
    "    \"\"\"\n",
    "    if score <= 20:\n",
    "        return \"Sehat (Healthy)\"\n",
    "    elif score <= 50:\n",
    "        return \"Sedang (Moderate)\"\n",
    "    elif score <= 100:\n",
    "        return \"Tidak Sehat (Unhealthy)\"\n",
    "    elif score <= 150:\n",
    "        return \"Sangat Tidak Sehat (Very Unhealthy)\"\n",
    "    else:\n",
    "        return \"Berbahaya (Hazardous)\""
   ]
  },
  {
   "cell_type": "code",
   "execution_count": 21,
   "id": "cd8bff92-bf8d-4949-9e79-a953f0bc74b0",
   "metadata": {},
   "outputs": [
    {
     "name": "stdout",
     "output_type": "stream",
     "text": [
      "\u001b[1m1/1\u001b[0m \u001b[32m━━━━━━━━━━━━━━━━━━━━\u001b[0m\u001b[37m\u001b[0m \u001b[1m0s\u001b[0m 19ms/step\n",
      "Predicted HealthImpactScore: 78.54\n",
      "Kategori: Tidak Sehat (Unhealthy)\n"
     ]
    }
   ],
   "source": [
    "# Contoh Prediksi dan Klasifikasi\n",
    "predicted_score = predict_health_impact_cnn(187.2700594, 295.8530392, 13.03856044, 6.639263013, 66.16114965, 54.62427998, 5.150335038, 84.42434365, 6.137755447)\n",
    "category = classify_health_impact(predicted_score)\n",
    "\n",
    "print(f\"Predicted HealthImpactScore: {predicted_score:.2f}\")\n",
    "print(f\"Kategori: {category}\")"
   ]
  },
  {
   "cell_type": "code",
   "execution_count": null,
   "id": "a7d9ae2c-886d-4ef2-b3b3-c1ec8500cb4c",
   "metadata": {},
   "outputs": [],
   "source": []
  }
 ],
 "metadata": {
  "kernelspec": {
   "display_name": "Python 3 (ipykernel)",
   "language": "python",
   "name": "python3"
  },
  "language_info": {
   "codemirror_mode": {
    "name": "ipython",
    "version": 3
   },
   "file_extension": ".py",
   "mimetype": "text/x-python",
   "name": "python",
   "nbconvert_exporter": "python",
   "pygments_lexer": "ipython3",
   "version": "3.11.2"
  }
 },
 "nbformat": 4,
 "nbformat_minor": 5
}
