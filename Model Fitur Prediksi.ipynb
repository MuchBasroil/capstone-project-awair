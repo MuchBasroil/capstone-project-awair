{
 "cells": [
  {
   "cell_type": "code",
   "execution_count": 1,
   "id": "3e20e6ab-a1ca-45b9-8fa4-ed6bbeac25d9",
   "metadata": {},
   "outputs": [],
   "source": [
    "import pandas as pd\n",
    "import numpy as np\n",
    "from sklearn.model_selection import train_test_split\n",
    "from sklearn.preprocessing import MinMaxScaler\n",
    "from tensorflow.keras.models import Sequential\n",
    "from tensorflow.keras.layers import Dense, Conv1D, Flatten, Dropout, Input\n",
    "from tensorflow.keras.optimizers import Adam\n",
    "from tensorflow.keras.callbacks import EarlyStopping"
   ]
  },
  {
   "cell_type": "code",
   "execution_count": 2,
   "id": "75120989-a411-4a1e-b727-c269f34d10f4",
   "metadata": {},
   "outputs": [],
   "source": [
    "data = {\n",
    "    'AQI': np.random.randint(50, 300, 1000),\n",
    "    'PM10': np.random.uniform(10, 100, 1000),\n",
    "    'PM2_5': np.random.uniform(5, 80, 1000),\n",
    "    'NO2': np.random.uniform(5, 60, 1000),\n",
    "    'SO2': np.random.uniform(2, 40, 1000),\n",
    "    'O3': np.random.uniform(20, 120, 1000),\n",
    "    'Temperature': np.random.uniform(15, 35, 1000),\n",
    "    'Humidity': np.random.uniform(30, 90, 1000),\n",
    "    'WindSpeed': np.random.uniform(0.5, 10, 1000),\n",
    "    'HealthImpactScore': np.random.uniform(0, 100, 1000),\n",
    "}"
   ]
  },
  {
   "cell_type": "code",
   "execution_count": 3,
   "id": "b969282b-a54a-429e-a142-0340cce4dcab",
   "metadata": {},
   "outputs": [],
   "source": [
    "# Membuat DataFrame\n",
    "df = pd.DataFrame(data)"
   ]
  },
  {
   "cell_type": "code",
   "execution_count": 4,
   "id": "4dc4e577-7f47-42fa-8962-edf98f08da5a",
   "metadata": {},
   "outputs": [],
   "source": [
    "# Memisahkan fitur (X) dan target (y)\n",
    "X = df[['AQI', 'PM10', 'PM2_5', 'NO2', 'SO2', 'O3', 'Temperature', 'Humidity', 'WindSpeed']].values\n",
    "y = df['HealthImpactScore'].values"
   ]
  },
  {
   "cell_type": "code",
   "execution_count": 5,
   "id": "955ffcb3-757c-40f2-a6a6-7da009c82c54",
   "metadata": {},
   "outputs": [],
   "source": [
    "# Normalisasi data menggunakan MinMaxScaler\n",
    "scaler = MinMaxScaler()\n",
    "X_scaled = scaler.fit_transform(X)"
   ]
  },
  {
   "cell_type": "code",
   "execution_count": 6,
   "id": "f3aaaea2-ca8a-4968-9843-6ab003062ccd",
   "metadata": {},
   "outputs": [],
   "source": [
    "# Reshape data untuk CNN (menambahkan dimensi channel)\n",
    "X_scaled = X_scaled.reshape(X_scaled.shape[0], X_scaled.shape[1], 1)"
   ]
  },
  {
   "cell_type": "code",
   "execution_count": 7,
   "id": "5130e12d-e7b6-4d5c-9cde-b665d4364514",
   "metadata": {},
   "outputs": [],
   "source": [
    "# Membagi dataset menjadi train dan test set\n",
    "X_train, X_test, y_train, y_test = train_test_split(X_scaled, y, test_size=0.2, random_state=42)"
   ]
  },
  {
   "cell_type": "code",
   "execution_count": 8,
   "id": "9b70d97e-1a04-4179-a89b-b068ff6ae9ac",
   "metadata": {},
   "outputs": [],
   "source": [
    "# Membuat model CNN\n",
    "model = Sequential([\n",
    "    Input(shape=(X_train.shape[1], 1)),  # Input layer\n",
    "    Conv1D(filters=32, kernel_size=3, activation='relu'),\n",
    "    Conv1D(filters=64, kernel_size=3, activation='relu'),\n",
    "    Flatten(),\n",
    "    Dense(128, activation='relu'),\n",
    "    Dropout(0.2),\n",
    "    Dense(64, activation='relu'),\n",
    "    Dense(1, activation='linear')  # Output layer\n",
    "])"
   ]
  },
  {
   "cell_type": "code",
   "execution_count": 9,
   "id": "fa773b18-1632-4f58-9f99-152b65d5d616",
   "metadata": {},
   "outputs": [],
   "source": [
    "# Kompilasi model\n",
    "model.compile(optimizer=Adam(learning_rate=0.001), loss='mse', metrics=['mae'])"
   ]
  },
  {
   "cell_type": "code",
   "execution_count": 10,
   "id": "50b09b3f-21bc-4781-a7e1-711200325db6",
   "metadata": {},
   "outputs": [],
   "source": [
    "# Menambahkan Early Stopping untuk mencegah overfitting\n",
    "early_stopping = EarlyStopping(monitor='val_loss', patience=10, restore_best_weights=True)"
   ]
  },
  {
   "cell_type": "code",
   "execution_count": 11,
   "id": "0c0cbb78-4316-49ba-bbca-deb878ae78f6",
   "metadata": {},
   "outputs": [
    {
     "name": "stdout",
     "output_type": "stream",
     "text": [
      "Epoch 1/100\n",
      "\u001b[1m20/20\u001b[0m \u001b[32m━━━━━━━━━━━━━━━━━━━━\u001b[0m\u001b[37m\u001b[0m \u001b[1m3s\u001b[0m 16ms/step - loss: 3549.1052 - mae: 52.7352 - val_loss: 2979.8770 - val_mae: 46.6672\n",
      "Epoch 2/100\n",
      "\u001b[1m20/20\u001b[0m \u001b[32m━━━━━━━━━━━━━━━━━━━━\u001b[0m\u001b[37m\u001b[0m \u001b[1m0s\u001b[0m 6ms/step - loss: 2329.6780 - mae: 40.8969 - val_loss: 1064.4268 - val_mae: 27.1160\n",
      "Epoch 3/100\n",
      "\u001b[1m20/20\u001b[0m \u001b[32m━━━━━━━━━━━━━━━━━━━━\u001b[0m\u001b[37m\u001b[0m \u001b[1m0s\u001b[0m 4ms/step - loss: 1049.8577 - mae: 27.2708 - val_loss: 880.5270 - val_mae: 25.9636\n",
      "Epoch 4/100\n",
      "\u001b[1m20/20\u001b[0m \u001b[32m━━━━━━━━━━━━━━━━━━━━\u001b[0m\u001b[37m\u001b[0m \u001b[1m0s\u001b[0m 5ms/step - loss: 831.1768 - mae: 24.5137 - val_loss: 921.1464 - val_mae: 25.8315\n",
      "Epoch 5/100\n",
      "\u001b[1m20/20\u001b[0m \u001b[32m━━━━━━━━━━━━━━━━━━━━\u001b[0m\u001b[37m\u001b[0m \u001b[1m0s\u001b[0m 5ms/step - loss: 833.4312 - mae: 24.7057 - val_loss: 859.3291 - val_mae: 25.6054\n",
      "Epoch 6/100\n",
      "\u001b[1m20/20\u001b[0m \u001b[32m━━━━━━━━━━━━━━━━━━━━\u001b[0m\u001b[37m\u001b[0m \u001b[1m0s\u001b[0m 4ms/step - loss: 782.5929 - mae: 23.6160 - val_loss: 864.7332 - val_mae: 25.7452\n",
      "Epoch 7/100\n",
      "\u001b[1m20/20\u001b[0m \u001b[32m━━━━━━━━━━━━━━━━━━━━\u001b[0m\u001b[37m\u001b[0m \u001b[1m0s\u001b[0m 5ms/step - loss: 903.7067 - mae: 25.6496 - val_loss: 851.5641 - val_mae: 25.4518\n",
      "Epoch 8/100\n",
      "\u001b[1m20/20\u001b[0m \u001b[32m━━━━━━━━━━━━━━━━━━━━\u001b[0m\u001b[37m\u001b[0m \u001b[1m0s\u001b[0m 5ms/step - loss: 825.4839 - mae: 24.2734 - val_loss: 861.4497 - val_mae: 25.3345\n",
      "Epoch 9/100\n",
      "\u001b[1m20/20\u001b[0m \u001b[32m━━━━━━━━━━━━━━━━━━━━\u001b[0m\u001b[37m\u001b[0m \u001b[1m0s\u001b[0m 5ms/step - loss: 887.8950 - mae: 25.6679 - val_loss: 852.8245 - val_mae: 25.2767\n",
      "Epoch 10/100\n",
      "\u001b[1m20/20\u001b[0m \u001b[32m━━━━━━━━━━━━━━━━━━━━\u001b[0m\u001b[37m\u001b[0m \u001b[1m0s\u001b[0m 4ms/step - loss: 905.7662 - mae: 25.9881 - val_loss: 844.9319 - val_mae: 25.2871\n",
      "Epoch 11/100\n",
      "\u001b[1m20/20\u001b[0m \u001b[32m━━━━━━━━━━━━━━━━━━━━\u001b[0m\u001b[37m\u001b[0m \u001b[1m0s\u001b[0m 5ms/step - loss: 907.0202 - mae: 25.6627 - val_loss: 844.9437 - val_mae: 25.2246\n",
      "Epoch 12/100\n",
      "\u001b[1m20/20\u001b[0m \u001b[32m━━━━━━━━━━━━━━━━━━━━\u001b[0m\u001b[37m\u001b[0m \u001b[1m0s\u001b[0m 5ms/step - loss: 816.7074 - mae: 24.6189 - val_loss: 873.3241 - val_mae: 25.2909\n",
      "Epoch 13/100\n",
      "\u001b[1m20/20\u001b[0m \u001b[32m━━━━━━━━━━━━━━━━━━━━\u001b[0m\u001b[37m\u001b[0m \u001b[1m0s\u001b[0m 4ms/step - loss: 882.3871 - mae: 25.4174 - val_loss: 865.8358 - val_mae: 25.2345\n",
      "Epoch 14/100\n",
      "\u001b[1m20/20\u001b[0m \u001b[32m━━━━━━━━━━━━━━━━━━━━\u001b[0m\u001b[37m\u001b[0m \u001b[1m0s\u001b[0m 4ms/step - loss: 854.8527 - mae: 24.6934 - val_loss: 900.7897 - val_mae: 25.4414\n",
      "Epoch 15/100\n",
      "\u001b[1m20/20\u001b[0m \u001b[32m━━━━━━━━━━━━━━━━━━━━\u001b[0m\u001b[37m\u001b[0m \u001b[1m0s\u001b[0m 4ms/step - loss: 802.7867 - mae: 24.1937 - val_loss: 854.8506 - val_mae: 25.6204\n",
      "Epoch 16/100\n",
      "\u001b[1m20/20\u001b[0m \u001b[32m━━━━━━━━━━━━━━━━━━━━\u001b[0m\u001b[37m\u001b[0m \u001b[1m0s\u001b[0m 4ms/step - loss: 919.8312 - mae: 26.4430 - val_loss: 853.7438 - val_mae: 25.1708\n",
      "Epoch 17/100\n",
      "\u001b[1m20/20\u001b[0m \u001b[32m━━━━━━━━━━━━━━━━━━━━\u001b[0m\u001b[37m\u001b[0m \u001b[1m0s\u001b[0m 4ms/step - loss: 874.3246 - mae: 25.6521 - val_loss: 859.6992 - val_mae: 25.1700\n",
      "Epoch 18/100\n",
      "\u001b[1m20/20\u001b[0m \u001b[32m━━━━━━━━━━━━━━━━━━━━\u001b[0m\u001b[37m\u001b[0m \u001b[1m0s\u001b[0m 4ms/step - loss: 818.9738 - mae: 24.5657 - val_loss: 840.7465 - val_mae: 25.1133\n",
      "Epoch 19/100\n",
      "\u001b[1m20/20\u001b[0m \u001b[32m━━━━━━━━━━━━━━━━━━━━\u001b[0m\u001b[37m\u001b[0m \u001b[1m0s\u001b[0m 5ms/step - loss: 830.0661 - mae: 24.6623 - val_loss: 836.6514 - val_mae: 25.0884\n",
      "Epoch 20/100\n",
      "\u001b[1m20/20\u001b[0m \u001b[32m━━━━━━━━━━━━━━━━━━━━\u001b[0m\u001b[37m\u001b[0m \u001b[1m0s\u001b[0m 4ms/step - loss: 863.6251 - mae: 25.2015 - val_loss: 845.7716 - val_mae: 25.4544\n",
      "Epoch 21/100\n",
      "\u001b[1m20/20\u001b[0m \u001b[32m━━━━━━━━━━━━━━━━━━━━\u001b[0m\u001b[37m\u001b[0m \u001b[1m0s\u001b[0m 5ms/step - loss: 879.4183 - mae: 25.5198 - val_loss: 832.0511 - val_mae: 25.0695\n",
      "Epoch 22/100\n",
      "\u001b[1m20/20\u001b[0m \u001b[32m━━━━━━━━━━━━━━━━━━━━\u001b[0m\u001b[37m\u001b[0m \u001b[1m0s\u001b[0m 4ms/step - loss: 838.0466 - mae: 24.8261 - val_loss: 832.4271 - val_mae: 25.0485\n",
      "Epoch 23/100\n",
      "\u001b[1m20/20\u001b[0m \u001b[32m━━━━━━━━━━━━━━━━━━━━\u001b[0m\u001b[37m\u001b[0m \u001b[1m0s\u001b[0m 4ms/step - loss: 886.2117 - mae: 25.5984 - val_loss: 849.8672 - val_mae: 25.0673\n",
      "Epoch 24/100\n",
      "\u001b[1m20/20\u001b[0m \u001b[32m━━━━━━━━━━━━━━━━━━━━\u001b[0m\u001b[37m\u001b[0m \u001b[1m0s\u001b[0m 4ms/step - loss: 819.6899 - mae: 24.6039 - val_loss: 846.7751 - val_mae: 25.0497\n",
      "Epoch 25/100\n",
      "\u001b[1m20/20\u001b[0m \u001b[32m━━━━━━━━━━━━━━━━━━━━\u001b[0m\u001b[37m\u001b[0m \u001b[1m0s\u001b[0m 4ms/step - loss: 820.9222 - mae: 24.4782 - val_loss: 863.1201 - val_mae: 25.1254\n",
      "Epoch 26/100\n",
      "\u001b[1m20/20\u001b[0m \u001b[32m━━━━━━━━━━━━━━━━━━━━\u001b[0m\u001b[37m\u001b[0m \u001b[1m0s\u001b[0m 5ms/step - loss: 842.0179 - mae: 24.2217 - val_loss: 828.4863 - val_mae: 25.0980\n",
      "Epoch 27/100\n",
      "\u001b[1m20/20\u001b[0m \u001b[32m━━━━━━━━━━━━━━━━━━━━\u001b[0m\u001b[37m\u001b[0m \u001b[1m0s\u001b[0m 4ms/step - loss: 770.7939 - mae: 23.5537 - val_loss: 838.8323 - val_mae: 25.0045\n",
      "Epoch 28/100\n",
      "\u001b[1m20/20\u001b[0m \u001b[32m━━━━━━━━━━━━━━━━━━━━\u001b[0m\u001b[37m\u001b[0m \u001b[1m0s\u001b[0m 4ms/step - loss: 817.4147 - mae: 24.3902 - val_loss: 856.0592 - val_mae: 25.0746\n",
      "Epoch 29/100\n",
      "\u001b[1m20/20\u001b[0m \u001b[32m━━━━━━━━━━━━━━━━━━━━\u001b[0m\u001b[37m\u001b[0m \u001b[1m0s\u001b[0m 4ms/step - loss: 819.7836 - mae: 24.6714 - val_loss: 834.2766 - val_mae: 25.2415\n",
      "Epoch 30/100\n",
      "\u001b[1m20/20\u001b[0m \u001b[32m━━━━━━━━━━━━━━━━━━━━\u001b[0m\u001b[37m\u001b[0m \u001b[1m0s\u001b[0m 4ms/step - loss: 849.5099 - mae: 25.1969 - val_loss: 846.3029 - val_mae: 25.0191\n",
      "Epoch 31/100\n",
      "\u001b[1m20/20\u001b[0m \u001b[32m━━━━━━━━━━━━━━━━━━━━\u001b[0m\u001b[37m\u001b[0m \u001b[1m0s\u001b[0m 4ms/step - loss: 832.7451 - mae: 24.8459 - val_loss: 826.9932 - val_mae: 24.9756\n",
      "Epoch 32/100\n",
      "\u001b[1m20/20\u001b[0m \u001b[32m━━━━━━━━━━━━━━━━━━━━\u001b[0m\u001b[37m\u001b[0m \u001b[1m0s\u001b[0m 5ms/step - loss: 834.3395 - mae: 24.8881 - val_loss: 842.2837 - val_mae: 24.9890\n",
      "Epoch 33/100\n",
      "\u001b[1m20/20\u001b[0m \u001b[32m━━━━━━━━━━━━━━━━━━━━\u001b[0m\u001b[37m\u001b[0m \u001b[1m0s\u001b[0m 6ms/step - loss: 823.4189 - mae: 24.6456 - val_loss: 829.6881 - val_mae: 24.9454\n",
      "Epoch 34/100\n",
      "\u001b[1m20/20\u001b[0m \u001b[32m━━━━━━━━━━━━━━━━━━━━\u001b[0m\u001b[37m\u001b[0m \u001b[1m0s\u001b[0m 4ms/step - loss: 806.4403 - mae: 24.4609 - val_loss: 825.8353 - val_mae: 24.9752\n",
      "Epoch 35/100\n",
      "\u001b[1m20/20\u001b[0m \u001b[32m━━━━━━━━━━━━━━━━━━━━\u001b[0m\u001b[37m\u001b[0m \u001b[1m0s\u001b[0m 4ms/step - loss: 789.9016 - mae: 24.0459 - val_loss: 836.5675 - val_mae: 24.9526\n",
      "Epoch 36/100\n",
      "\u001b[1m20/20\u001b[0m \u001b[32m━━━━━━━━━━━━━━━━━━━━\u001b[0m\u001b[37m\u001b[0m \u001b[1m0s\u001b[0m 4ms/step - loss: 787.0609 - mae: 24.0667 - val_loss: 835.3248 - val_mae: 25.2609\n",
      "Epoch 37/100\n",
      "\u001b[1m20/20\u001b[0m \u001b[32m━━━━━━━━━━━━━━━━━━━━\u001b[0m\u001b[37m\u001b[0m \u001b[1m0s\u001b[0m 4ms/step - loss: 821.3964 - mae: 24.8453 - val_loss: 852.0316 - val_mae: 25.5416\n",
      "Epoch 38/100\n",
      "\u001b[1m20/20\u001b[0m \u001b[32m━━━━━━━━━━━━━━━━━━━━\u001b[0m\u001b[37m\u001b[0m \u001b[1m0s\u001b[0m 4ms/step - loss: 791.6157 - mae: 23.8254 - val_loss: 842.9896 - val_mae: 25.4003\n",
      "Epoch 39/100\n",
      "\u001b[1m20/20\u001b[0m \u001b[32m━━━━━━━━━━━━━━━━━━━━\u001b[0m\u001b[37m\u001b[0m \u001b[1m0s\u001b[0m 4ms/step - loss: 825.2286 - mae: 24.8184 - val_loss: 867.4349 - val_mae: 25.1312\n",
      "Epoch 40/100\n",
      "\u001b[1m20/20\u001b[0m \u001b[32m━━━━━━━━━━━━━━━━━━━━\u001b[0m\u001b[37m\u001b[0m \u001b[1m0s\u001b[0m 4ms/step - loss: 824.9300 - mae: 24.7233 - val_loss: 835.5488 - val_mae: 24.9369\n",
      "Epoch 41/100\n",
      "\u001b[1m20/20\u001b[0m \u001b[32m━━━━━━━━━━━━━━━━━━━━\u001b[0m\u001b[37m\u001b[0m \u001b[1m0s\u001b[0m 4ms/step - loss: 831.5663 - mae: 24.6506 - val_loss: 843.0959 - val_mae: 24.9719\n",
      "Epoch 42/100\n",
      "\u001b[1m20/20\u001b[0m \u001b[32m━━━━━━━━━━━━━━━━━━━━\u001b[0m\u001b[37m\u001b[0m \u001b[1m0s\u001b[0m 5ms/step - loss: 823.3560 - mae: 24.2326 - val_loss: 845.2633 - val_mae: 24.9831\n",
      "Epoch 43/100\n",
      "\u001b[1m20/20\u001b[0m \u001b[32m━━━━━━━━━━━━━━━━━━━━\u001b[0m\u001b[37m\u001b[0m \u001b[1m0s\u001b[0m 4ms/step - loss: 801.2314 - mae: 24.2325 - val_loss: 859.7992 - val_mae: 25.0819\n",
      "Epoch 44/100\n",
      "\u001b[1m20/20\u001b[0m \u001b[32m━━━━━━━━━━━━━━━━━━━━\u001b[0m\u001b[37m\u001b[0m \u001b[1m0s\u001b[0m 5ms/step - loss: 794.1526 - mae: 24.1210 - val_loss: 825.6605 - val_mae: 24.9920\n",
      "Epoch 45/100\n",
      "\u001b[1m20/20\u001b[0m \u001b[32m━━━━━━━━━━━━━━━━━━━━\u001b[0m\u001b[37m\u001b[0m \u001b[1m0s\u001b[0m 4ms/step - loss: 794.2843 - mae: 24.3131 - val_loss: 831.2275 - val_mae: 24.9433\n",
      "Epoch 46/100\n",
      "\u001b[1m20/20\u001b[0m \u001b[32m━━━━━━━━━━━━━━━━━━━━\u001b[0m\u001b[37m\u001b[0m \u001b[1m0s\u001b[0m 4ms/step - loss: 782.8729 - mae: 23.9135 - val_loss: 825.8696 - val_mae: 24.9809\n",
      "Epoch 47/100\n",
      "\u001b[1m20/20\u001b[0m \u001b[32m━━━━━━━━━━━━━━━━━━━━\u001b[0m\u001b[37m\u001b[0m \u001b[1m0s\u001b[0m 4ms/step - loss: 847.5450 - mae: 25.4116 - val_loss: 844.2033 - val_mae: 24.9716\n",
      "Epoch 48/100\n",
      "\u001b[1m20/20\u001b[0m \u001b[32m━━━━━━━━━━━━━━━━━━━━\u001b[0m\u001b[37m\u001b[0m \u001b[1m0s\u001b[0m 4ms/step - loss: 840.0276 - mae: 24.8497 - val_loss: 850.0962 - val_mae: 25.0054\n",
      "Epoch 49/100\n",
      "\u001b[1m20/20\u001b[0m \u001b[32m━━━━━━━━━━━━━━━━━━━━\u001b[0m\u001b[37m\u001b[0m \u001b[1m0s\u001b[0m 4ms/step - loss: 804.7133 - mae: 24.3074 - val_loss: 873.9046 - val_mae: 25.1654\n",
      "Epoch 50/100\n",
      "\u001b[1m20/20\u001b[0m \u001b[32m━━━━━━━━━━━━━━━━━━━━\u001b[0m\u001b[37m\u001b[0m \u001b[1m0s\u001b[0m 4ms/step - loss: 772.6412 - mae: 23.6978 - val_loss: 859.3693 - val_mae: 25.0617\n",
      "Epoch 51/100\n",
      "\u001b[1m20/20\u001b[0m \u001b[32m━━━━━━━━━━━━━━━━━━━━\u001b[0m\u001b[37m\u001b[0m \u001b[1m0s\u001b[0m 4ms/step - loss: 796.1024 - mae: 23.8781 - val_loss: 842.5071 - val_mae: 24.9515\n",
      "Epoch 52/100\n",
      "\u001b[1m20/20\u001b[0m \u001b[32m━━━━━━━━━━━━━━━━━━━━\u001b[0m\u001b[37m\u001b[0m \u001b[1m0s\u001b[0m 4ms/step - loss: 806.0363 - mae: 24.1850 - val_loss: 840.0541 - val_mae: 24.9399\n",
      "Epoch 53/100\n",
      "\u001b[1m20/20\u001b[0m \u001b[32m━━━━━━━━━━━━━━━━━━━━\u001b[0m\u001b[37m\u001b[0m \u001b[1m0s\u001b[0m 4ms/step - loss: 779.3531 - mae: 23.8317 - val_loss: 840.8866 - val_mae: 24.9502\n",
      "Epoch 54/100\n",
      "\u001b[1m20/20\u001b[0m \u001b[32m━━━━━━━━━━━━━━━━━━━━\u001b[0m\u001b[37m\u001b[0m \u001b[1m0s\u001b[0m 5ms/step - loss: 874.7031 - mae: 25.7068 - val_loss: 826.0909 - val_mae: 25.0204\n"
     ]
    }
   ],
   "source": [
    "# Melatih model\n",
    "history = model.fit(\n",
    "    X_train, y_train,\n",
    "    validation_split=0.2,\n",
    "    epochs=100,\n",
    "    batch_size=32,\n",
    "    callbacks=[early_stopping],\n",
    "    verbose=1\n",
    ")"
   ]
  },
  {
   "cell_type": "code",
   "execution_count": 12,
   "id": "da967e1d-382a-4a43-afb9-2b866edf511e",
   "metadata": {},
   "outputs": [
    {
     "name": "stdout",
     "output_type": "stream",
     "text": [
      "Mean Absolute Error (MAE): 25.898996353149414\n"
     ]
    }
   ],
   "source": [
    "# Evaluasi model\n",
    "loss, mae = model.evaluate(X_test, y_test, verbose=0)\n",
    "print(\"Mean Absolute Error (MAE):\", mae)"
   ]
  },
  {
   "cell_type": "code",
   "execution_count": 13,
   "id": "5b4d61e0-0a5c-44cb-9c82-9d712192d0b6",
   "metadata": {},
   "outputs": [],
   "source": [
    "# Fungsi prediksi\n",
    "def predict_health_impact_cnn(aqi, pm10, pm2_5, no2, so2, o3, temperature, humidity, wind_speed):\n",
    "    \"\"\"\n",
    "    Fungsi untuk memprediksi HealthImpactScore menggunakan CNN.\n",
    "    \"\"\"\n",
    "    input_data = np.array([[aqi, pm10, pm2_5, no2, so2, o3, temperature, humidity, wind_speed]])\n",
    "    input_data_scaled = scaler.transform(input_data)  # Normalisasi data\n",
    "    input_data_scaled = input_data_scaled.reshape(input_data_scaled.shape[0], input_data_scaled.shape[1], 1)  # Reshape untuk CNN\n",
    "    return model.predict(input_data_scaled)[0][0]"
   ]
  },
  {
   "cell_type": "code",
   "execution_count": 15,
   "id": "578aca49-86fc-4c57-8ca7-5a6b155583bf",
   "metadata": {},
   "outputs": [
    {
     "name": "stdout",
     "output_type": "stream",
     "text": [
      "\u001b[1m1/1\u001b[0m \u001b[32m━━━━━━━━━━━━━━━━━━━━\u001b[0m\u001b[37m\u001b[0m \u001b[1m0s\u001b[0m 30ms/step\n",
      "Predicted HealthImpactScore: 82.07509\n"
     ]
    }
   ],
   "source": [
    "# Contoh penggunaan fungsi\n",
    "predicted_score = predict_health_impact_cnn(187.2700594, 295.8530392, 13.03856044, 6.639263013, 66.16114965, 54.62427998, 5.150335038, 84.42434365, 6.137755447)\n",
    "print(\"Predicted HealthImpactScore:\", predicted_score)"
   ]
  },
  {
   "cell_type": "code",
   "execution_count": 16,
   "id": "9e927f9d-9d8a-4d48-8c53-54de42cf1396",
   "metadata": {},
   "outputs": [
    {
     "name": "stdout",
     "output_type": "stream",
     "text": [
      "\u001b[1m25/25\u001b[0m \u001b[32m━━━━━━━━━━━━━━━━━━━━\u001b[0m\u001b[37m\u001b[0m \u001b[1m0s\u001b[0m 2ms/step \n",
      "\u001b[1m7/7\u001b[0m \u001b[32m━━━━━━━━━━━━━━━━━━━━\u001b[0m\u001b[37m\u001b[0m \u001b[1m0s\u001b[0m 2ms/step \n"
     ]
    }
   ],
   "source": [
    "from sklearn.metrics import r2_score, mean_absolute_error\n",
    "\n",
    "# Prediksi pada data train\n",
    "y_train_pred = model.predict(X_train)\n",
    "y_test_pred = model.predict(X_test)\n"
   ]
  },
  {
   "cell_type": "code",
   "execution_count": 17,
   "id": "2e8ef24c-b6e0-47ce-b8f4-ff1ef2f76faf",
   "metadata": {},
   "outputs": [],
   "source": [
    "# Evaluasi pada train set\n",
    "r2_train = r2_score(y_train, y_train_pred)\n",
    "mae_train = mean_absolute_error(y_train, y_train_pred)"
   ]
  },
  {
   "cell_type": "code",
   "execution_count": 18,
   "id": "e6bd7d11-0f9d-408c-951d-e2f4d7461bdf",
   "metadata": {},
   "outputs": [],
   "source": [
    "# Evaluasi pada test set\n",
    "r2_test = r2_score(y_test, y_test_pred)\n",
    "mae_test = mean_absolute_error(y_test, y_test_pred)"
   ]
  },
  {
   "cell_type": "code",
   "execution_count": 19,
   "id": "40e16796-25e1-48cb-96f2-0adb222b10f9",
   "metadata": {},
   "outputs": [
    {
     "name": "stdout",
     "output_type": "stream",
     "text": [
      "=== Evaluasi Model ===\n",
      "Train Set R-squared: 0.0106\n",
      "Train Set MAE: 24.6585\n",
      "Test Set R-squared: -0.0078\n",
      "Test Set MAE: 25.8990\n"
     ]
    }
   ],
   "source": [
    "print(\"=== Evaluasi Model ===\")\n",
    "print(f\"Train Set R-squared: {r2_train:.4f}\")\n",
    "print(f\"Train Set MAE: {mae_train:.4f}\")\n",
    "print(f\"Test Set R-squared: {r2_test:.4f}\")\n",
    "print(f\"Test Set MAE: {mae_test:.4f}\")\n"
   ]
  },
  {
   "cell_type": "code",
   "execution_count": 21,
   "id": "bb0eca4a-e997-4e20-bd6c-cd84485604b6",
   "metadata": {},
   "outputs": [
    {
     "name": "stdout",
     "output_type": "stream",
     "text": [
      "\n",
      "=== Akurasi ===\n",
      "Model memiliki akurasi rendah pada test set (R² < 0.7).\n",
      "Performa model pada train dan test set konsisten, tidak ada indikasi overfitting.\n"
     ]
    }
   ],
   "source": [
    "print(\"\\n=== Akurasi ===\")\n",
    "if r2_test >= 0.9:\n",
    "    print(\"Model memiliki akurasi sangat tinggi pada test set (R² > 0.9).\")\n",
    "elif r2_test >= 0.8:\n",
    "    print(\"Model memiliki akurasi baik pada test set (R² antara 0.8 dan 0.9).\")\n",
    "elif r2_test >= 0.7:\n",
    "    print(\"Model memiliki akurasi sedang pada test set (R² antara 0.7 dan 0.8).\")\n",
    "else:\n",
    "    print(\"Model memiliki akurasi rendah pada test set (R² < 0.7).\")\n",
    "\n",
    "if abs(r2_train - r2_test) > 0.1:\n",
    "    print(\"Namun, terdapat perbedaan signifikan antara performa train dan test set, kemungkinan terjadi overfitting.\")\n",
    "else:\n",
    "    print(\"Performa model pada train dan test set konsisten, tidak ada indikasi overfitting.\")"
   ]
  },
  {
   "cell_type": "code",
   "execution_count": 22,
   "id": "e6b16ab2-fd28-4085-8e02-6367c0a1b5ac",
   "metadata": {},
   "outputs": [],
   "source": [
    "def classify_health_impact(score):\n",
    "    \"\"\"\n",
    "    Mengklasifikasikan HealthImpactScore ke dalam kategori.\n",
    "    \"\"\"\n",
    "    if score <= 20:\n",
    "        return \"Sehat (Healthy)\"\n",
    "    elif score <= 50:\n",
    "        return \"Sedang (Moderate)\"\n",
    "    elif score <= 100:\n",
    "        return \"Tidak Sehat (Unhealthy)\"\n",
    "    elif score <= 150:\n",
    "        return \"Sangat Tidak Sehat (Very Unhealthy)\"\n",
    "    else:\n",
    "        return \"Berbahaya (Hazardous)\""
   ]
  },
  {
   "cell_type": "code",
   "execution_count": 24,
   "id": "cd8bff92-bf8d-4949-9e79-a953f0bc74b0",
   "metadata": {},
   "outputs": [
    {
     "name": "stdout",
     "output_type": "stream",
     "text": [
      "\u001b[1m1/1\u001b[0m \u001b[32m━━━━━━━━━━━━━━━━━━━━\u001b[0m\u001b[37m\u001b[0m \u001b[1m0s\u001b[0m 19ms/step\n",
      "Predicted HealthImpactScore: 82.08\n",
      "Kategori: Tidak Sehat (Unhealthy)\n"
     ]
    }
   ],
   "source": [
    "# Contoh Prediksi dan Klasifikasi\n",
    "predicted_score = predict_health_impact_cnn(187.2700594, 295.8530392, 13.03856044, 6.639263013, 66.16114965, 54.62427998, 5.150335038, 84.42434365, 6.137755447)\n",
    "category = classify_health_impact(predicted_score)\n",
    "\n",
    "print(f\"Predicted HealthImpactScore: {predicted_score:.2f}\")\n",
    "print(f\"Kategori: {category}\")"
   ]
  },
  {
   "cell_type": "code",
   "execution_count": null,
   "id": "a7d9ae2c-886d-4ef2-b3b3-c1ec8500cb4c",
   "metadata": {},
   "outputs": [],
   "source": []
  }
 ],
 "metadata": {
  "kernelspec": {
   "display_name": "Python 3 (ipykernel)",
   "language": "python",
   "name": "python3"
  },
  "language_info": {
   "codemirror_mode": {
    "name": "ipython",
    "version": 3
   },
   "file_extension": ".py",
   "mimetype": "text/x-python",
   "name": "python",
   "nbconvert_exporter": "python",
   "pygments_lexer": "ipython3",
   "version": "3.11.2"
  }
 },
 "nbformat": 4,
 "nbformat_minor": 5
}
