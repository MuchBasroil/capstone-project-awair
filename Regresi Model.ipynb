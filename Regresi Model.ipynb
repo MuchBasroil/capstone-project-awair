{
 "cells": [
  {
   "cell_type": "code",
   "execution_count": 1,
   "id": "fdbdadec-4df5-47d1-a594-f36ba4b23cee",
   "metadata": {},
   "outputs": [],
   "source": [
    "import pandas as pd\n",
    "import numpy as np\n",
    "from sklearn.model_selection import train_test_split\n",
    "from sklearn.preprocessing import StandardScaler\n",
    "from tensorflow.keras.models import Sequential\n",
    "from tensorflow.keras.layers import Dense\n",
    "from tensorflow.keras.optimizers import Adam\n",
    "from tensorflow.keras.callbacks import EarlyStopping\n",
    "import matplotlib.pyplot as plt"
   ]
  },
  {
   "cell_type": "code",
   "execution_count": 2,
   "id": "8aa7dcc3-2094-4166-8014-f1a229f4524d",
   "metadata": {},
   "outputs": [],
   "source": [
    "np.random.seed(42)\n",
    "data_size = 100\n",
    "data = pd.DataFrame({\n",
    "    'AQI': np.random.uniform(50, 150, data_size),\n",
    "    'PM10': np.random.uniform(20, 80, data_size),\n",
    "    'PM2.5': np.random.uniform(10, 50, data_size),\n",
    "    'NO2': np.random.uniform(5, 40, data_size),\n",
    "    'SO2': np.random.uniform(2, 20, data_size),\n",
    "    'O3': np.random.uniform(10, 60, data_size),\n",
    "    'Temperature': np.random.uniform(15, 35, data_size),\n",
    "    'Humidity': np.random.uniform(30, 90, data_size),\n",
    "    'Wind_Speed': np.random.uniform(0.5, 5.0, data_size),\n",
    "    'HealthImpactScore': np.random.uniform(0, 100, data_size)  # Target\n",
    "})"
   ]
  },
  {
   "cell_type": "code",
   "execution_count": 3,
   "id": "01c61d98-4ba5-4db4-9576-4c1855e7968f",
   "metadata": {},
   "outputs": [],
   "source": [
    "# Pisahkan fitur (X) dan target (y)\n",
    "X = data[['AQI', 'PM10', 'PM2.5', 'NO2', 'SO2', 'O3', 'Temperature', 'Humidity', 'Wind_Speed']]\n",
    "y = data['HealthImpactScore']"
   ]
  },
  {
   "cell_type": "code",
   "execution_count": 4,
   "id": "8956b58d-6310-4f4f-8af6-07b476cbd5eb",
   "metadata": {},
   "outputs": [],
   "source": [
    "# Split data ke training dan testing set\n",
    "X_train, X_test, y_train, y_test = train_test_split(X, y, test_size=0.3, random_state=42)"
   ]
  },
  {
   "cell_type": "code",
   "execution_count": 5,
   "id": "eccfa0e2-a9e4-4dbd-8ff4-566d403cf0c4",
   "metadata": {},
   "outputs": [],
   "source": [
    "# Standardisasi data\n",
    "scaler = StandardScaler()\n",
    "X_train_scaled = scaler.fit_transform(X_train)\n",
    "X_test_scaled = scaler.transform(X_test)"
   ]
  },
  {
   "cell_type": "code",
   "execution_count": 6,
   "id": "52a6bc73-abef-443c-a4d1-73e470b3035a",
   "metadata": {},
   "outputs": [
    {
     "name": "stderr",
     "output_type": "stream",
     "text": [
      "c:\\Users\\Fadika\\AppData\\Local\\Programs\\Python\\Python311\\Lib\\site-packages\\keras\\src\\layers\\core\\dense.py:87: UserWarning: Do not pass an `input_shape`/`input_dim` argument to a layer. When using Sequential models, prefer using an `Input(shape)` object as the first layer in the model instead.\n",
      "  super().__init__(activity_regularizer=activity_regularizer, **kwargs)\n"
     ]
    }
   ],
   "source": [
    "# 5. Define Neural Network Model\n",
    "model = Sequential([\n",
    "    Dense(64, activation='relu', input_shape=(X_train_scaled.shape[1],)),\n",
    "    Dense(32, activation='relu'),\n",
    "    Dense(1)  # Single output for regression\n",
    "])"
   ]
  },
  {
   "cell_type": "code",
   "execution_count": null,
   "id": "7efc65ac-5cfb-4725-b401-e4feca499fb8",
   "metadata": {},
   "outputs": [],
   "source": [
    "# Compile the model\n",
    "model.compile(optimizer=Adam(learning_rate=0.01), loss='mse', metrics=['mae'])"
   ]
  },
  {
   "cell_type": "code",
   "execution_count": 8,
   "id": "4c1af3a1-89cf-421f-9406-b98e78bc8246",
   "metadata": {},
   "outputs": [],
   "source": [
    "# Early stopping\n",
    "early_stopping = EarlyStopping(monitor='val_loss', patience=10, restore_best_weights=True)"
   ]
  },
  {
   "cell_type": "code",
   "execution_count": 9,
   "id": "2b574d94-8ff1-4368-b6f9-a3d3315c7357",
   "metadata": {},
   "outputs": [
    {
     "name": "stdout",
     "output_type": "stream",
     "text": [
      "Epoch 1/100\n",
      "\u001b[1m4/4\u001b[0m \u001b[32m━━━━━━━━━━━━━━━━━━━━\u001b[0m\u001b[37m\u001b[0m \u001b[1m1s\u001b[0m 58ms/step - loss: 2911.2583 - mae: 46.3308 - val_loss: 2963.1951 - val_mae: 45.8527\n",
      "Epoch 2/100\n",
      "\u001b[1m4/4\u001b[0m \u001b[32m━━━━━━━━━━━━━━━━━━━━\u001b[0m\u001b[37m\u001b[0m \u001b[1m0s\u001b[0m 11ms/step - loss: 2512.6887 - mae: 42.9510 - val_loss: 2607.5195 - val_mae: 42.4915\n",
      "Epoch 3/100\n",
      "\u001b[1m4/4\u001b[0m \u001b[32m━━━━━━━━━━━━━━━━━━━━\u001b[0m\u001b[37m\u001b[0m \u001b[1m0s\u001b[0m 14ms/step - loss: 2390.4155 - mae: 40.3024 - val_loss: 2122.0557 - val_mae: 38.5480\n",
      "Epoch 4/100\n",
      "\u001b[1m4/4\u001b[0m \u001b[32m━━━━━━━━━━━━━━━━━━━━\u001b[0m\u001b[37m\u001b[0m \u001b[1m0s\u001b[0m 10ms/step - loss: 1699.4740 - mae: 33.2648 - val_loss: 1558.5751 - val_mae: 34.0528\n",
      "Epoch 5/100\n",
      "\u001b[1m4/4\u001b[0m \u001b[32m━━━━━━━━━━━━━━━━━━━━\u001b[0m\u001b[37m\u001b[0m \u001b[1m0s\u001b[0m 10ms/step - loss: 1228.2019 - mae: 28.8237 - val_loss: 1064.0531 - val_mae: 28.6118\n",
      "Epoch 6/100\n",
      "\u001b[1m4/4\u001b[0m \u001b[32m━━━━━━━━━━━━━━━━━━━━\u001b[0m\u001b[37m\u001b[0m \u001b[1m0s\u001b[0m 10ms/step - loss: 626.6777 - mae: 21.6388 - val_loss: 853.7401 - val_mae: 24.2833\n",
      "Epoch 7/100\n",
      "\u001b[1m4/4\u001b[0m \u001b[32m━━━━━━━━━━━━━━━━━━━━\u001b[0m\u001b[37m\u001b[0m \u001b[1m0s\u001b[0m 11ms/step - loss: 613.4061 - mae: 21.1121 - val_loss: 842.3212 - val_mae: 23.8902\n",
      "Epoch 8/100\n",
      "\u001b[1m4/4\u001b[0m \u001b[32m━━━━━━━━━━━━━━━━━━━━\u001b[0m\u001b[37m\u001b[0m \u001b[1m0s\u001b[0m 10ms/step - loss: 584.4821 - mae: 20.6704 - val_loss: 843.8138 - val_mae: 24.3101\n",
      "Epoch 9/100\n",
      "\u001b[1m4/4\u001b[0m \u001b[32m━━━━━━━━━━━━━━━━━━━━\u001b[0m\u001b[37m\u001b[0m \u001b[1m0s\u001b[0m 10ms/step - loss: 553.1497 - mae: 20.3031 - val_loss: 887.7777 - val_mae: 25.8108\n",
      "Epoch 10/100\n",
      "\u001b[1m4/4\u001b[0m \u001b[32m━━━━━━━━━━━━━━━━━━━━\u001b[0m\u001b[37m\u001b[0m \u001b[1m0s\u001b[0m 10ms/step - loss: 473.0410 - mae: 19.1940 - val_loss: 938.6069 - val_mae: 26.6712\n",
      "Epoch 11/100\n",
      "\u001b[1m4/4\u001b[0m \u001b[32m━━━━━━━━━━━━━━━━━━━━\u001b[0m\u001b[37m\u001b[0m \u001b[1m0s\u001b[0m 10ms/step - loss: 438.7971 - mae: 18.3710 - val_loss: 951.2993 - val_mae: 26.6827\n",
      "Epoch 12/100\n",
      "\u001b[1m4/4\u001b[0m \u001b[32m━━━━━━━━━━━━━━━━━━━━\u001b[0m\u001b[37m\u001b[0m \u001b[1m0s\u001b[0m 11ms/step - loss: 407.9320 - mae: 17.5198 - val_loss: 950.9567 - val_mae: 26.5706\n",
      "Epoch 13/100\n",
      "\u001b[1m4/4\u001b[0m \u001b[32m━━━━━━━━━━━━━━━━━━━━\u001b[0m\u001b[37m\u001b[0m \u001b[1m0s\u001b[0m 11ms/step - loss: 415.7761 - mae: 18.4165 - val_loss: 929.3492 - val_mae: 25.7954\n",
      "Epoch 14/100\n",
      "\u001b[1m4/4\u001b[0m \u001b[32m━━━━━━━━━━━━━━━━━━━━\u001b[0m\u001b[37m\u001b[0m \u001b[1m0s\u001b[0m 11ms/step - loss: 386.6816 - mae: 17.3208 - val_loss: 915.2897 - val_mae: 25.2949\n",
      "Epoch 15/100\n",
      "\u001b[1m4/4\u001b[0m \u001b[32m━━━━━━━━━━━━━━━━━━━━\u001b[0m\u001b[37m\u001b[0m \u001b[1m0s\u001b[0m 10ms/step - loss: 394.8660 - mae: 17.5004 - val_loss: 919.5742 - val_mae: 25.5225\n",
      "Epoch 16/100\n",
      "\u001b[1m4/4\u001b[0m \u001b[32m━━━━━━━━━━━━━━━━━━━━\u001b[0m\u001b[37m\u001b[0m \u001b[1m0s\u001b[0m 11ms/step - loss: 398.2988 - mae: 17.2242 - val_loss: 936.8775 - val_mae: 26.0157\n",
      "Epoch 17/100\n",
      "\u001b[1m4/4\u001b[0m \u001b[32m━━━━━━━━━━━━━━━━━━━━\u001b[0m\u001b[37m\u001b[0m \u001b[1m0s\u001b[0m 11ms/step - loss: 414.6260 - mae: 18.1529 - val_loss: 946.8563 - val_mae: 26.3396\n"
     ]
    }
   ],
   "source": [
    "# 6. Train the Model with Epochs\n",
    "history = model.fit(\n",
    "    X_train_scaled, y_train,\n",
    "    validation_split=0.2,\n",
    "    epochs=100,  # Number of epochs\n",
    "    batch_size=16,\n",
    "    callbacks=[early_stopping],\n",
    "    verbose=1\n",
    ")"
   ]
  },
  {
   "cell_type": "code",
   "execution_count": 10,
   "id": "d2078ba2-b706-4105-bd17-ec0e5a8d8fd8",
   "metadata": {},
   "outputs": [
    {
     "name": "stdout",
     "output_type": "stream",
     "text": [
      "\n",
      "Test Loss (MSE): 1086.57177734375\n",
      "Test Mean Absolute Error (MAE): 26.98546600341797\n"
     ]
    }
   ],
   "source": [
    "# 7. Evaluate the Model\n",
    "loss, mae = model.evaluate(X_test_scaled, y_test, verbose=0)\n",
    "print(f\"\\nTest Loss (MSE): {loss}\")\n",
    "print(f\"Test Mean Absolute Error (MAE): {mae}\")"
   ]
  },
  {
   "cell_type": "code",
   "execution_count": 13,
   "id": "a63a7c1d",
   "metadata": {},
   "outputs": [
    {
     "name": "stdout",
     "output_type": "stream",
     "text": [
      "\u001b[1m1/1\u001b[0m \u001b[32m━━━━━━━━━━━━━━━━━━━━\u001b[0m\u001b[37m\u001b[0m \u001b[1m0s\u001b[0m 42ms/step\n",
      "Evaluasi Akurasi Model pada Data Uji:\n",
      "Mean Squared Error (MSE): 1086.57\n",
      "Mean Absolute Error (MAE): 26.99\n",
      "R-squared (R²): -0.53\n"
     ]
    }
   ],
   "source": [
    "from sklearn.metrics import mean_squared_error, mean_absolute_error, r2_score\n",
    "\n",
    "# Evaluasi Model pada Data Uji\n",
    "y_pred = model.predict(X_test_scaled)\n",
    "\n",
    "# Hitung Metrik Evaluasi\n",
    "mse = mean_squared_error(y_test, y_pred)\n",
    "mae = mean_absolute_error(y_test, y_pred)\n",
    "r2 = r2_score(y_test, y_pred)\n",
    "\n",
    "# Tampilkan Hasil Evaluasi\n",
    "print(\"Evaluasi Akurasi Model pada Data Uji:\")\n",
    "print(f\"Mean Squared Error (MSE): {mse:.2f}\")\n",
    "print(f\"Mean Absolute Error (MAE): {mae:.2f}\")\n",
    "print(f\"R-squared (R²): {r2:.2f}\")"
   ]
  },
  {
   "cell_type": "code",
   "execution_count": 11,
   "id": "98e0e91e-caf3-4912-badb-0a8ae83fa5c4",
   "metadata": {},
   "outputs": [
    {
     "data": {
      "image/png": "[encoded data removed]",
      "text/plain": [
       "<Figure size 1000x500 with 1 Axes>"
      ]
     },
     "metadata": {},
     "output_type": "display_data"
    }
   ],
   "source": [
    "# 8. Plot Training History\n",
    "plt.figure(figsize=(10, 5))\n",
    "plt.plot(history.history['loss'], label='Training Loss')\n",
    "plt.plot(history.history['val_loss'], label='Validation Loss')\n",
    "plt.title('Model Loss')\n",
    "plt.xlabel('Epochs')\n",
    "plt.ylabel('Loss (MSE)')\n",
    "plt.legend()\n",
    "plt.show()"
   ]
  },
  {
   "cell_type": "code",
   "execution_count": 12,
   "id": "6000a051-7c29-4a1a-bc34-b14f24ae5a56",
   "metadata": {},
   "outputs": [
    {
     "name": "stdout",
     "output_type": "stream",
     "text": [
      "\u001b[1m1/1\u001b[0m \u001b[32m━━━━━━━━━━━━━━━━━━━━\u001b[0m\u001b[37m\u001b[0m \u001b[1m0s\u001b[0m 56ms/step\n",
      "\n",
      "New Data Features: [85 40 25 30 20 15 35 60  5]\n",
      "Predicted Health Impact Score: 51.533337\n"
     ]
    },
    {
     "name": "stderr",
     "output_type": "stream",
     "text": [
      "c:\\Users\\Fadika\\AppData\\Local\\Programs\\Python\\Python311\\Lib\\site-packages\\sklearn\\base.py:493: UserWarning: X does not have valid feature names, but StandardScaler was fitted with feature names\n",
      "  warnings.warn(\n"
     ]
    }
   ],
   "source": [
    "# 9. Test the Model with New Data\n",
    "new_data = np.array([[85, 40, 25, 30, 20, 15, 35, 60, 5]])  # Example feature values\n",
    "new_data_scaled = scaler.transform(new_data)  # Scale new data\n",
    "prediction = model.predict(new_data_scaled)\n",
    "print(\"\\nNew Data Features:\", new_data[0])\n",
    "print(\"Predicted Health Impact Score:\", prediction[0][0])"
   ]
  },
  {
   "cell_type": "code",
   "execution_count": 13,
   "id": "a592023c-9186-438b-a474-6fa058fd0a37",
   "metadata": {},
   "outputs": [
    {
     "name": "stdout",
     "output_type": "stream",
     "text": [
      "Random Forest - MSE: 1133.5866745181459, R²: -0.3442843374075446\n"
     ]
    }
   ],
   "source": [
    "from sklearn.metrics import mean_squared_error, r2_score\n",
    "from sklearn.ensemble import RandomForestRegressor\n",
    "\n",
    "rf_model = RandomForestRegressor(n_estimators=100, random_state=42)\n",
    "rf_model.fit(X_train, y_train)\n",
    "y_pred_rf = rf_model.predict(X_test)\n",
    "\n",
    "mse_rf = mean_squared_error(y_test, y_pred_rf)\n",
    "r2_rf = r2_score(y_test, y_pred_rf)\n",
    "print(f\"Random Forest - MSE: {mse_rf}, R²: {r2_rf}\")\n"
   ]
  },
  {
   "cell_type": "code",
   "execution_count": 14,
   "id": "e128f576-4c58-47fc-977f-3b894404825d",
   "metadata": {},
   "outputs": [
    {
     "name": "stdout",
     "output_type": "stream",
     "text": [
      "XGBoost - MSE: 1414.4671486666664, R²: -0.6773715468544625\n"
     ]
    }
   ],
   "source": [
    "from xgboost import XGBRegressor\n",
    "\n",
    "xgb_model = XGBRegressor(n_estimators=100, learning_rate=0.1, random_state=42)\n",
    "xgb_model.fit(X_train, y_train)\n",
    "y_pred_xgb = xgb_model.predict(X_test)\n",
    "\n",
    "mse_xgb = mean_squared_error(y_test, y_pred_xgb)\n",
    "r2_xgb = r2_score(y_test, y_pred_xgb)\n",
    "print(f\"XGBoost - MSE: {mse_xgb}, R²: {r2_xgb}\")"
   ]
  },
  {
   "cell_type": "code",
   "execution_count": 15,
   "id": "e34ef0d3-50e7-49cb-97d1-8ff6f7c09849",
   "metadata": {},
   "outputs": [
    {
     "name": "stdout",
     "output_type": "stream",
     "text": [
      "Best Parameters: {'max_depth': None, 'n_estimators': 200}\n",
      "Best Score: 0.09365565443638131\n"
     ]
    }
   ],
   "source": [
    "from sklearn.model_selection import GridSearchCV\n",
    "\n",
    "param_grid = {'n_estimators': [100, 200], 'max_depth': [None, 10, 20]}\n",
    "grid_search = GridSearchCV(RandomForestRegressor(), param_grid, cv=3)\n",
    "grid_search.fit(X_train, y_train)\n",
    "\n",
    "print(\"Best Parameters:\", grid_search.best_params_)\n",
    "print(\"Best Score:\", grid_search.best_score_)\n"
   ]
  },
  {
   "cell_type": "code",
   "execution_count": null,
   "id": "b73f9f31-7625-474b-8226-97575ad21faf",
   "metadata": {},
   "outputs": [],
   "source": []
  }
 ],
 "metadata": {
  "kernelspec": {
   "display_name": "Python 3",
   "language": "python",
   "name": "python3"
  },
  "language_info": {
   "codemirror_mode": {
    "name": "ipython",
    "version": 3
   },
   "file_extension": ".py",
   "mimetype": "text/x-python",
   "name": "python",
   "nbconvert_exporter": "python",
   "pygments_lexer": "ipython3",
   "version": "3.11.2"
  }
 },
 "nbformat": 4,
 "nbformat_minor": 5
}
