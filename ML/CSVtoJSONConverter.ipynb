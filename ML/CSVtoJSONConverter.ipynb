{
 "cells": [
  {
   "cell_type": "code",
   "execution_count": 4,
   "id": "a50a63d6-2a1d-48af-ae57-d60a2bb28003",
   "metadata": {},
   "outputs": [
    {
     "name": "stdout",
     "output_type": "stream",
     "text": [
      "CSV file has been successfully converted to JSON and saved as dataset.json\n"
     ]
    }
   ],
   "source": [
    "import csv\n",
    "import json\n",
    "\n",
    "# Function to convert CSV to JSON\n",
    "def csv_to_json(csv_file_path, json_file_path):\n",
    "    try:\n",
    "        # Open CSV file\n",
    "        with open(csv_file_path, mode='r', encoding='utf-8') as csv_file:\n",
    "            # Read the CSV file\n",
    "            csv_reader = csv.DictReader(csv_file)\n",
    "            \n",
    "            # Convert each row into a dictionary and add it to a list\n",
    "            data = [row for row in csv_reader]\n",
    "            \n",
    "        # Write JSON file\n",
    "        with open(json_file_path, mode='w', encoding='utf-8') as json_file:\n",
    "            json.dump(data, json_file, indent=4)\n",
    "        \n",
    "        print(f\"CSV file has been successfully converted to JSON and saved as {json_file_path}\")\n",
    "    \n",
    "    except Exception as e:\n",
    "        print(f\"Error: {e}\")\n",
    "\n",
    "# File paths\n",
    "csv_file_path = 'dataset/air_quality_data_fix.csv'   # Replace with your CSV file path\n",
    "json_file_path = 'dataset.json'  # Replace with your desired JSON file path\n",
    "\n",
    "# Convert CSV to JSON\n",
    "csv_to_json(csv_file_path, json_file_path)\n"
   ]
  },
  {
   "cell_type": "code",
   "execution_count": null,
   "id": "15c2b60c-17a1-4507-943f-f7bb8d6e9b0e",
   "metadata": {},
   "outputs": [],
   "source": []
  }
 ],
 "metadata": {
  "kernelspec": {
   "display_name": "Python 3 (ipykernel)",
   "language": "python",
   "name": "python3"
  },
  "language_info": {
   "codemirror_mode": {
    "name": "ipython",
    "version": 3
   },
   "file_extension": ".py",
   "mimetype": "text/x-python",
   "name": "python",
   "nbconvert_exporter": "python",
   "pygments_lexer": "ipython3",
   "version": "3.12.4"
  }
 },
 "nbformat": 4,
 "nbformat_minor": 5
}
